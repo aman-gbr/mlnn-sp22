{
 "cells": [
  {
   "cell_type": "code",
   "execution_count": 1,
   "id": "915f86f6",
   "metadata": {},
   "outputs": [],
   "source": [
    "import numpy as np\n",
    "import pandas as pd\n",
    "import scipy as sp"
   ]
  },
  {
   "cell_type": "code",
   "execution_count": 2,
   "id": "de0fd056",
   "metadata": {},
   "outputs": [],
   "source": [
    "%matplotlib inline\n",
    "import matplotlib.pyplot as plt\n",
    "plt.style.use('ggplot')"
   ]
  },
  {
   "cell_type": "code",
   "execution_count": 58,
   "id": "61488a67",
   "metadata": {},
   "outputs": [
    {
     "name": "stdout",
     "output_type": "stream",
     "text": [
      "Overwriting hw_data.csv\n"
     ]
    }
   ],
   "source": [
    "%%file hw_data.csv\n",
    "id,sex,height,weight\n",
    "1,M,190,77\n",
    "2,F,120,70\n",
    "3,F,110,68\n",
    "4,M,150,72\n",
    "5,O,120,66\n",
    "6,M,120,60\n",
    "7,F,140,70"
   ]
  },
  {
   "cell_type": "markdown",
   "id": "a7017292",
   "metadata": {},
   "source": [
    "# Python"
   ]
  },
  {
   "cell_type": "markdown",
   "id": "c160da5f",
   "metadata": {},
   "source": [
    "# 1. Finish creating the following function that takes a list and returns the average value."
   ]
  },
  {
   "cell_type": "code",
   "execution_count": 198,
   "id": "71a69641",
   "metadata": {},
   "outputs": [
    {
     "data": {
      "text/plain": [
       "3.375"
      ]
     },
     "execution_count": 198,
     "metadata": {},
     "output_type": "execute_result"
    }
   ],
   "source": [
    "def average(my_list):\n",
    "    total = 0\n",
    "    for item in my_list:\n",
    "        #do something with item!\n",
    "        total = total + item\n",
    "    \n",
    "    return total/len(my_list)\n",
    "\n",
    "average([1,2,1,4,3,2,5,9])"
   ]
  },
  {
   "cell_type": "markdown",
   "id": "034984c1",
   "metadata": {},
   "source": [
    "# 2. Using a Dictionary keep track of the count of numbers (or items) from a list"
   ]
  },
  {
   "cell_type": "code",
   "execution_count": 199,
   "id": "ac4adb06",
   "metadata": {},
   "outputs": [
    {
     "data": {
      "text/plain": [
       "{1: 2, 2: 2, 4: 1, 3: 1, 5: 1, 9: 1}"
      ]
     },
     "execution_count": 199,
     "metadata": {},
     "output_type": "execute_result"
    }
   ],
   "source": [
    "def counts(my_list):\n",
    "    counts = dict()\n",
    "    for item in my_list:\n",
    "        #do something with item!\n",
    "        if item not in counts:\n",
    "            counts[item] = 1\n",
    "        else:\n",
    "            counts[item] = counts[item]+1\n",
    "    \n",
    "    return counts\n",
    "\n",
    "counts([1,2,1,4,3,2,5,9])   "
   ]
  },
  {
   "cell_type": "markdown",
   "id": "6b34753a",
   "metadata": {},
   "source": [
    "# 3. Using the counts() function and the .split() function, return a dictionary of most occuring words from the following paragraph. Bonus, remove punctuation from words."
   ]
  },
  {
   "cell_type": "code",
   "execution_count": 200,
   "id": "86c01ea1",
   "metadata": {},
   "outputs": [
    {
     "data": {
      "text/plain": [
       "{'a': 16,\n",
       " 'she': 7,\n",
       " 'at': 6,\n",
       " 'the': 32,\n",
       " 'and': 18,\n",
       " 'to': 15,\n",
       " 'in': 9,\n",
       " 'of': 9,\n",
       " 'was': 8,\n",
       " 'his': 6,\n",
       " 'door': 6,\n",
       " 'Footman': 6,\n",
       " 'you': 6}"
      ]
     },
     "execution_count": 200,
     "metadata": {},
     "output_type": "execute_result"
    }
   ],
   "source": [
    "paragraph_text = '''\n",
    "For a minute or two she stood looking at the house, and wondering what to do next, when suddenly a footman in livery came running out of the wood—(she considered him to be a footman because he was in livery: otherwise, judging by his face only, she would have called him a fish)—and rapped loudly at the door with his knuckles. It was opened by another footman in livery, with a round face, and large eyes like a frog; and both footmen, Alice noticed, had powdered hair that curled all over their heads. She felt very curious to know what it was all about, and crept a little way out of the wood to listen.\n",
    "The Fish-Footman began by producing from under his arm a great letter, nearly as large as himself, and this he handed over to the other, saying, in a solemn tone, ‘For the Duchess. An invitation from the Queen to play croquet.’ The Frog-Footman repeated, in the same solemn tone, only changing the order of the words a little, ‘From the Queen. An invitation for the Duchess to play croquet.’\n",
    "Then they both bowed low, and their curls got entangled together.\n",
    "Alice laughed so much at this, that she had to run back into the wood for fear of their hearing her; and when she next peeped out the Fish-Footman was gone, and the other was sitting on the ground near the door, staring stupidly up into the sky.\n",
    "Alice went timidly up to the door, and knocked.\n",
    "‘There’s no sort of use in knocking,’ said the Footman, ‘and that for two reasons. First, because I’m on the same side of the door as you are; secondly, because they’re making such a noise inside, no one could possibly hear you.’ And certainly there was a most extraordinary noise going on within—a constant howling and sneezing, and every now and then a great crash, as if a dish or kettle had been broken to pieces.\n",
    "‘Please, then,’ said Alice, ‘how am I to get in?’\n",
    "‘There might be some sense in your knocking,’ the Footman went on without attending to her, ‘if we had the door between us. For instance, if you were inside, you might knock, and I could let you out, you know.’ He was looking up into the sky all the time he was speaking, and this Alice thought decidedly uncivil. ‘But perhaps he can’t help it,’ she said to herself; ‘his eyes are so very nearly at the top of his head. But at any rate he might answer questions.—How am I to get in?’ she repeated, aloud.\n",
    "‘I shall sit here,’ the Footman remarked, ‘till tomorrow—’\n",
    "At this moment the door of the house opened, and a large plate came skimming out, straight at the Footman’s head: it just grazed his nose, and broke to pieces against one of the trees behind him.'''\n",
    "\n",
    "#counts()\n",
    "import re\n",
    "\n",
    "test = '''For a minute or two she stood looking at the house, and wondering what to do next, when suddenly a footman in livery came running out of the wood—(she considered him to be a footman because he was in livery: otherwise, judging by his face only, she would have called him a fish)—and rapped loudly at the door with his knuckles. It was opened by another footman in livery, with a round face, and large eyes like a frog; and both footmen, Alice noticed, had powdered hair that curled all over their heads. She felt very curious to know what it was all about, and crept a little way out of the wood to listen.\n",
    "The Fish-Footman began by producing from under his arm a great letter, nearly as large as himself, and'''\n",
    "\n",
    "for text in paragraph_text:\n",
    "    if text in selected_punc:\n",
    "        paragraph_text = paragraph_text.replace(text, \"\")\n",
    "    if text == '—' or text == '-':\n",
    "        paragraph_text = paragraph_text.replace(text, \" \")\n",
    "\n",
    "paragraph_list = paragraph_text.split()\n",
    "\n",
    "para_list = []\n",
    "\n",
    "for i in range(len(paragraph_list)):\n",
    "    if ('’' in paragraph_list[i] or '‘' in paragraph_list[i]) and len (paragraph_list[i]) > 1:\n",
    "        word = paragraph_list[i]\n",
    "        if word[0] == '‘':\n",
    "            word = word[1:]\n",
    "        if word[-1] == '’': \n",
    "            word = word[:-1]\n",
    "        para_list.append(word)\n",
    "    elif paragraph_list[i] == '’':\n",
    "        pass\n",
    "    else:\n",
    "        para_list.append(paragraph_list[i])\n",
    "fix_acc_list = []\n",
    "for text in para_list:\n",
    "    if '’' in text or '’' in text:\n",
    "        fix_acc_list.append(text)\n",
    "fixed_acc_list = ['There' 'is', 'I', 'am', 'they', 'are', 'can' 'not']\n",
    "collect_list = []\n",
    "for i in para_list:\n",
    "    if i not in fix_acc_list:\n",
    "        collect_list.append(i)\n",
    "final_list = collect_list + fixed_acc_list\n",
    "        \n",
    "paragraph_dict = counts(final_list)\n",
    "#words occur 5 or more times\n",
    "most_occr_words = dict(filter(lambda x: x[1] > 5, paragraph_dict.items()))\n",
    "most_occr_words\n"
   ]
  },
  {
   "cell_type": "code",
   "execution_count": null,
   "id": "442bfc46",
   "metadata": {},
   "outputs": [],
   "source": []
  },
  {
   "cell_type": "markdown",
   "id": "1b342bdf",
   "metadata": {},
   "source": [
    "# 4. Read in a file and write each line from the file to a new file Title-ized"
   ]
  },
  {
   "cell_type": "code",
   "execution_count": 197,
   "id": "9edde401",
   "metadata": {},
   "outputs": [],
   "source": [
    "output = open(\"output_file.txt\", \"w\")\n",
    "  \n",
    "with open(\"input_file.txt\", \"r\") as file:\n",
    "    output.write(file.read().title())\n",
    "  \n",
    "output.close()"
   ]
  },
  {
   "cell_type": "code",
   "execution_count": 192,
   "id": "fa3c8e44",
   "metadata": {},
   "outputs": [],
   "source": []
  },
  {
   "cell_type": "markdown",
   "id": "d231493d",
   "metadata": {},
   "source": [
    "# Numpy"
   ]
  },
  {
   "cell_type": "markdown",
   "id": "bd705d5e",
   "metadata": {},
   "source": [
    "# 1. Given a list, find the average using a numpy function."
   ]
  },
  {
   "cell_type": "code",
   "execution_count": 201,
   "id": "56ad4654",
   "metadata": {},
   "outputs": [
    {
     "data": {
      "text/plain": [
       "3.375"
      ]
     },
     "execution_count": 201,
     "metadata": {},
     "output_type": "execute_result"
    }
   ],
   "source": [
    "simple_list = [1,2,1,4,3,2,5,9]\n",
    "np.mean(simple_list)"
   ]
  },
  {
   "cell_type": "markdown",
   "id": "be30d3c3",
   "metadata": {},
   "source": [
    "# 2. Given two lists of Heights and Weights of individual, calculate the BMI of those individuals, without writing a for-loop"
   ]
  },
  {
   "cell_type": "code",
   "execution_count": 202,
   "id": "1f7b01a5",
   "metadata": {},
   "outputs": [
    {
     "data": {
      "text/plain": [
       "array([0.00290659, 0.00277323, 0.00307394, 0.00241633, 0.00263329])"
      ]
     },
     "execution_count": 202,
     "metadata": {},
     "output_type": "execute_result"
    }
   ],
   "source": [
    "heights = [174, 173, 173, 175, 171]\n",
    "weights = [88, 83, 92, 74, 77]\n",
    "\n",
    "bmi = np.array(weights)/np.array(heights)**2\n",
    "bmi"
   ]
  },
  {
   "cell_type": "markdown",
   "id": "3919773f",
   "metadata": {},
   "source": [
    "# 3. Create an array of length 20 filled with random values (between 0 to 1)"
   ]
  },
  {
   "cell_type": "code",
   "execution_count": 203,
   "id": "04617846",
   "metadata": {},
   "outputs": [
    {
     "data": {
      "text/plain": [
       "array([0.67770251, 0.13680559, 0.09541277, 0.16404218, 0.74107062,\n",
       "       0.47210857, 0.05866767, 0.76487951, 0.39840367, 0.25438952,\n",
       "       0.03140323, 0.59115619, 0.91169416, 0.67855087, 0.32323245,\n",
       "       0.93080822, 0.09213025, 0.05655437, 0.77951181, 0.70250351])"
      ]
     },
     "execution_count": 203,
     "metadata": {},
     "output_type": "execute_result"
    }
   ],
   "source": [
    "np.random.rand(20)"
   ]
  },
  {
   "cell_type": "markdown",
   "id": "b7e6f90c",
   "metadata": {},
   "source": [
    "# Bonus. 1. Create an array with a large (>1000) length filled with random numbers from different distributions (normal, uniform, etc.). 2. Then, plot a histogram of these values."
   ]
  },
  {
   "cell_type": "code",
   "execution_count": 204,
   "id": "177c58a6",
   "metadata": {},
   "outputs": [
    {
     "data": {
      "text/plain": [
       "(array([1.300e+01, 1.300e+02, 7.210e+02, 2.119e+03, 3.118e+03, 2.556e+03,\n",
       "        1.065e+03, 2.440e+02, 3.300e+01, 1.000e+00]),\n",
       " array([-3.78947499, -2.97081434, -2.15215368, -1.33349303, -0.51483238,\n",
       "         0.30382827,  1.12248892,  1.94114957,  2.75981022,  3.57847088,\n",
       "         4.39713153]),\n",
       " <BarContainer object of 10 artists>)"
      ]
     },
     "execution_count": 204,
     "metadata": {},
     "output_type": "execute_result"
    },
    {
     "data": {
      "image/png": "[encoded data removed]",
      "text/plain": [
       "<Figure size 432x288 with 1 Axes>"
      ]
     },
     "metadata": {},
     "output_type": "display_data"
    }
   ],
   "source": [
    "dist = np.random.normal(0, 1, 10000)\n",
    "plt.hist(dist)"
   ]
  },
  {
   "cell_type": "markdown",
   "id": "c506c2d5",
   "metadata": {},
   "source": [
    "# Pandas"
   ]
  },
  {
   "cell_type": "markdown",
   "id": "f03cfbbc",
   "metadata": {},
   "source": [
    "# 1. Read in a CSV () and display all the columns and their respective data types"
   ]
  },
  {
   "cell_type": "code",
   "execution_count": 59,
   "id": "8c48668f",
   "metadata": {},
   "outputs": [],
   "source": [
    "df = pd.read_csv(\"hw_data.csv\")"
   ]
  },
  {
   "cell_type": "code",
   "execution_count": 60,
   "id": "070a8a73",
   "metadata": {},
   "outputs": [
    {
     "data": {
      "text/plain": [
       "id         int64\n",
       "sex       object\n",
       "height     int64\n",
       "weight     int64\n",
       "dtype: object"
      ]
     },
     "execution_count": 60,
     "metadata": {},
     "output_type": "execute_result"
    }
   ],
   "source": [
    "df.dtypes"
   ]
  },
  {
   "cell_type": "markdown",
   "id": "84acc7ce",
   "metadata": {},
   "source": [
    "# 2. Find the average weight"
   ]
  },
  {
   "cell_type": "code",
   "execution_count": 61,
   "id": "6c1f2cb8",
   "metadata": {},
   "outputs": [
    {
     "data": {
      "text/plain": [
       "69.0"
      ]
     },
     "execution_count": 61,
     "metadata": {},
     "output_type": "execute_result"
    }
   ],
   "source": [
    "df['weight'].mean()"
   ]
  },
  {
   "cell_type": "markdown",
   "id": "0bd1e7fd",
   "metadata": {},
   "source": [
    "# 3. Find the Value Counts on column sex"
   ]
  },
  {
   "cell_type": "code",
   "execution_count": 205,
   "id": "f497409e",
   "metadata": {},
   "outputs": [
    {
     "data": {
      "text/plain": [
       "M    3\n",
       "F    3\n",
       "O    1\n",
       "Name: sex, dtype: int64"
      ]
     },
     "execution_count": 205,
     "metadata": {},
     "output_type": "execute_result"
    }
   ],
   "source": [
    "df['sex'].value_counts()"
   ]
  },
  {
   "cell_type": "markdown",
   "id": "5a0b5683",
   "metadata": {},
   "source": [
    "# 4. Plot Height vs. Weight"
   ]
  },
  {
   "cell_type": "code",
   "execution_count": 211,
   "id": "7c4fc4eb",
   "metadata": {},
   "outputs": [
    {
     "data": {
      "text/plain": [
       "[Text(0.5, 0, 'Height (cm)'),\n",
       " Text(0, 0.5, 'Weight (kg)'),\n",
       " Text(0.5, 1.0, 'Height vs. Weight')]"
      ]
     },
     "execution_count": 211,
     "metadata": {},
     "output_type": "execute_result"
    },
    {
     "data": {
      "image/png": "[encoded data removed]",
      "text/plain": [
       "<Figure size 432x288 with 1 Axes>"
      ]
     },
     "metadata": {},
     "output_type": "display_data"
    }
   ],
   "source": [
    "h = df['height']\n",
    "w = df['weight']\n",
    "fig, ax = plt.subplots()\n",
    "ax.scatter(h, w)\n",
    "ax.set(xlabel='Height (cm)', ylabel='Weight (kg)',\n",
    "       title='Height vs. Weight')"
   ]
  },
  {
   "cell_type": "markdown",
   "id": "5d106ee2",
   "metadata": {},
   "source": [
    "# 5. Calculate BMI and save as a new column"
   ]
  },
  {
   "cell_type": "code",
   "execution_count": 66,
   "id": "81d1b688",
   "metadata": {},
   "outputs": [],
   "source": [
    "df['bmi'] = df['weight']/df['height']**2"
   ]
  },
  {
   "cell_type": "markdown",
   "id": "4380102b",
   "metadata": {},
   "source": [
    "# 6. Save sheet as a new CSV file hw_dataB.csv"
   ]
  },
  {
   "cell_type": "code",
   "execution_count": 68,
   "id": "c072f35d",
   "metadata": {},
   "outputs": [],
   "source": [
    "df.to_csv('hw_dataB.csv', index=False)"
   ]
  },
  {
   "cell_type": "markdown",
   "id": "2ca4dd72",
   "metadata": {},
   "source": [
    "# Run the following"
   ]
  },
  {
   "cell_type": "code",
   "execution_count": 69,
   "id": "a0fcdc5f",
   "metadata": {},
   "outputs": [
    {
     "name": "stdout",
     "output_type": "stream",
     "text": [
      "id,sex,height,weight,bmi\r\n",
      "1,M,190,77,0.0021329639889196674\r\n",
      "2,F,120,70,0.004861111111111111\r\n",
      "3,F,110,68,0.005619834710743801\r\n",
      "4,M,150,72,0.0032\r\n",
      "5,O,120,66,0.004583333333333333\r\n",
      "6,M,120,60,0.004166666666666667\r\n",
      "7,F,140,70,0.0035714285714285713\r\n"
     ]
    }
   ],
   "source": [
    "!cat hw_dataB.csv"
   ]
  },
  {
   "cell_type": "code",
   "execution_count": null,
   "id": "469f8233",
   "metadata": {},
   "outputs": [],
   "source": []
  }
 ],
 "metadata": {
  "kernelspec": {
   "display_name": "Python 3 (ipykernel)",
   "language": "python",
   "name": "python3"
  },
  "language_info": {
   "codemirror_mode": {
    "name": "ipython",
    "version": 3
   },
   "file_extension": ".py",
   "mimetype": "text/x-python",
   "name": "python",
   "nbconvert_exporter": "python",
   "pygments_lexer": "ipython3",
   "version": "3.8.3"
  }
 },
 "nbformat": 4,
 "nbformat_minor": 5
}
